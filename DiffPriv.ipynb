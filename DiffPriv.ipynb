{
 "cells": [
  {
   "cell_type": "code",
   "execution_count": 1,
   "id": "6302c583-d08a-4b8f-9489-2219547d9b9a",
   "metadata": {},
   "outputs": [
    {
     "name": "stdout",
     "output_type": "stream",
     "text": [
      "Requirement already satisfied: diffprivlib in e:\\stuff\\projects\\htf2\\lib\\site-packages (0.6.4)\n",
      "Requirement already satisfied: numpy>=1.21.6 in e:\\stuff\\projects\\htf2\\lib\\site-packages (from diffprivlib) (1.26.4)\n",
      "Requirement already satisfied: scikit-learn>=0.24.2 in e:\\stuff\\projects\\htf2\\lib\\site-packages (from diffprivlib) (1.4.1.post1)\n",
      "Requirement already satisfied: scipy>=1.7.3 in e:\\stuff\\projects\\htf2\\lib\\site-packages (from diffprivlib) (1.12.0)\n",
      "Requirement already satisfied: joblib>=0.16.0 in e:\\stuff\\projects\\htf2\\lib\\site-packages (from diffprivlib) (1.3.2)\n",
      "Requirement already satisfied: setuptools>=49.0.0 in e:\\stuff\\projects\\htf2\\lib\\site-packages (from diffprivlib) (65.5.0)\n",
      "Requirement already satisfied: threadpoolctl>=2.0.0 in e:\\stuff\\projects\\htf2\\lib\\site-packages (from scikit-learn>=0.24.2->diffprivlib) (3.3.0)\n"
     ]
    }
   ],
   "source": [
    "# !pip install --upgrade diffprivlib\n"
   ]
  },
  {
   "cell_type": "code",
   "execution_count": 2,
   "id": "7f9f9cbd-bb5e-4100-9244-312701768d3f",
   "metadata": {},
   "outputs": [],
   "source": [
    "import pandas as pd\n",
    "import numpy as np\n",
    "from diffprivlib.mechanisms import LaplaceBoundedDomain"
   ]
  },
  {
   "cell_type": "code",
   "execution_count": 3,
   "id": "66a2ca44-a2ba-4dad-9cf3-7aed7d1b739e",
   "metadata": {},
   "outputs": [],
   "source": [
    "# 1. Load the CSV data\n",
    "data = pd.read_csv('dataset/customer_churn.csv')  # Replace 'your_data.csv' with your actual file name"
   ]
  },
  {
   "cell_type": "code",
   "execution_count": 4,
   "id": "528ef0f4-829a-4946-b96c-a13d6aff1ae6",
   "metadata": {},
   "outputs": [],
   "source": [
    "data['TotalCharges'] = pd.to_numeric(data['TotalCharges'], errors='coerce')"
   ]
  },
  {
   "cell_type": "code",
   "execution_count": 5,
   "id": "38ffea77-2700-4654-9ede-e9fde1c24d01",
   "metadata": {},
   "outputs": [],
   "source": [
    "# 2. Define sensitive columns (adjust based on your analysis)\n",
    "sensitive_cols = ['tenure', 'MonthlyCharges', 'TotalCharges'] \n",
    "\n",
    "# 3. Set privacy parameters\n",
    "epsilon = 1.0  # Adjust for your desired privacy level (lower epsilon = more privacy)"
   ]
  },
  {
   "cell_type": "code",
   "execution_count": 6,
   "id": "bd87544f-7360-4851-9c66-1ca0b1e73674",
   "metadata": {},
   "outputs": [],
   "source": [
    "for col in sensitive_cols:\n",
    "  mechanism = LaplaceBoundedDomain(epsilon=epsilon, sensitivity=1, lower=data[col].min(), upper=data[col].max())\n",
    "  data[col] = np.clip(data[col] + mechanism.randomise(data[col].size), data[col].min(), data[col].max())\n"
   ]
  },
  {
   "cell_type": "code",
   "execution_count": 7,
   "id": "cc5abd29-82e2-4adb-af71-d4d42c0146b7",
   "metadata": {},
   "outputs": [],
   "source": [
    "# 5. Save the anonymized data\n",
    "data.to_csv('anonymised/anonymized_data.csv', index=False)"
   ]
  }
 ],
 "metadata": {
  "kernelspec": {
   "display_name": "Python 3 (ipykernel)",
   "language": "python",
   "name": "python3"
  },
  "language_info": {
   "codemirror_mode": {
    "name": "ipython",
    "version": 3
   },
   "file_extension": ".py",
   "mimetype": "text/x-python",
   "name": "python",
   "nbconvert_exporter": "python",
   "pygments_lexer": "ipython3",
   "version": "3.11.5"
  }
 },
 "nbformat": 4,
 "nbformat_minor": 5
}
